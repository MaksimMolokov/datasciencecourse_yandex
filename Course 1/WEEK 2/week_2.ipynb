{
 "cells": [
  {
   "cell_type": "code",
   "execution_count": 3,
   "metadata": {},
   "outputs": [],
   "source": [
    "import numpy as np\n"
   ]
  },
  {
   "cell_type": "code",
   "execution_count": 3,
   "metadata": {},
   "outputs": [
    {
     "data": {
      "text/plain": [
       "array([False, False,  True])"
      ]
     },
     "execution_count": 3,
     "metadata": {},
     "output_type": "execute_result"
    }
   ],
   "source": [
    "c = numpy.array([False, False, True])\n",
    "\n",
    "c"
   ]
  },
  {
   "cell_type": "code",
   "execution_count": 4,
   "metadata": {},
   "outputs": [
    {
     "data": {
      "text/plain": [
       "array([1., 2., 3., 4., 5.])"
      ]
     },
     "execution_count": 4,
     "metadata": {},
     "output_type": "execute_result"
    }
   ],
   "source": [
    "b = numpy.array([1, 2, 3, 4, 5], dtype=float)\n",
    "b"
   ]
  },
  {
   "cell_type": "code",
   "execution_count": 5,
   "metadata": {},
   "outputs": [],
   "source": [
    "f = numpy.arange(1, 2, 0.3, dtype=float)"
   ]
  },
  {
   "cell_type": "code",
   "execution_count": 6,
   "metadata": {},
   "outputs": [
    {
     "data": {
      "text/plain": [
       "array([1. , 1.3, 1.6, 1.9])"
      ]
     },
     "execution_count": 6,
     "metadata": {},
     "output_type": "execute_result"
    }
   ],
   "source": [
    "f"
   ]
  },
  {
   "cell_type": "code",
   "execution_count": 8,
   "metadata": {},
   "outputs": [],
   "source": [
    "a = numpy.array([6, 3, -5]) \n",
    "b = numpy.array([-1, 0, 7])"
   ]
  },
  {
   "cell_type": "code",
   "execution_count": 22,
   "metadata": {},
   "outputs": [],
   "source": [
    "import  scipy.spatial\n",
    "\n",
    "\n"
   ]
  },
  {
   "cell_type": "code",
   "execution_count": 19,
   "metadata": {},
   "outputs": [
    {
     "data": {
      "text/plain": [
       "1.2955324534752801"
      ]
     },
     "execution_count": 19,
     "metadata": {},
     "output_type": "execute_result"
    }
   ],
   "source": [
    "np.linalg.norm(a, ord=2) - np.linalg.norm(b, ord=2)"
   ]
  },
  {
   "cell_type": "code",
   "execution_count": 23,
   "metadata": {},
   "outputs": [
    {
     "ename": "ValueError",
     "evalue": "XA must be a 2-dimensional array.",
     "output_type": "error",
     "traceback": [
      "\u001b[0;31m---------------------------------------------------------------------------\u001b[0m",
      "\u001b[0;31mValueError\u001b[0m                                Traceback (most recent call last)",
      "\u001b[0;32m<ipython-input-23-e22cfb3e3e36>\u001b[0m in \u001b[0;36m<module>\u001b[0;34m()\u001b[0m\n\u001b[0;32m----> 1\u001b[0;31m \u001b[0mscipy\u001b[0m\u001b[0;34m.\u001b[0m\u001b[0mspatial\u001b[0m\u001b[0;34m.\u001b[0m\u001b[0mdistance\u001b[0m\u001b[0;34m.\u001b[0m\u001b[0mcdist\u001b[0m\u001b[0;34m(\u001b[0m\u001b[0mb\u001b[0m\u001b[0;34m,\u001b[0m \u001b[0ma\u001b[0m\u001b[0;34m,\u001b[0m \u001b[0mmetric\u001b[0m\u001b[0;34m=\u001b[0m\u001b[0;34m'euclidean'\u001b[0m\u001b[0;34m)\u001b[0m\u001b[0;34m\u001b[0m\u001b[0m\n\u001b[0m",
      "\u001b[0;32m/anaconda3/lib/python3.6/site-packages/scipy/spatial/distance.py\u001b[0m in \u001b[0;36mcdist\u001b[0;34m(XA, XB, metric, *args, **kwargs)\u001b[0m\n\u001b[1;32m   2367\u001b[0m \u001b[0;34m\u001b[0m\u001b[0m\n\u001b[1;32m   2368\u001b[0m     \u001b[0;32mif\u001b[0m \u001b[0mlen\u001b[0m\u001b[0;34m(\u001b[0m\u001b[0ms\u001b[0m\u001b[0;34m)\u001b[0m \u001b[0;34m!=\u001b[0m \u001b[0;36m2\u001b[0m\u001b[0;34m:\u001b[0m\u001b[0;34m\u001b[0m\u001b[0m\n\u001b[0;32m-> 2369\u001b[0;31m         \u001b[0;32mraise\u001b[0m \u001b[0mValueError\u001b[0m\u001b[0;34m(\u001b[0m\u001b[0;34m'XA must be a 2-dimensional array.'\u001b[0m\u001b[0;34m)\u001b[0m\u001b[0;34m\u001b[0m\u001b[0m\n\u001b[0m\u001b[1;32m   2370\u001b[0m     \u001b[0;32mif\u001b[0m \u001b[0mlen\u001b[0m\u001b[0;34m(\u001b[0m\u001b[0msB\u001b[0m\u001b[0;34m)\u001b[0m \u001b[0;34m!=\u001b[0m \u001b[0;36m2\u001b[0m\u001b[0;34m:\u001b[0m\u001b[0;34m\u001b[0m\u001b[0m\n\u001b[1;32m   2371\u001b[0m         \u001b[0;32mraise\u001b[0m \u001b[0mValueError\u001b[0m\u001b[0;34m(\u001b[0m\u001b[0;34m'XB must be a 2-dimensional array.'\u001b[0m\u001b[0;34m)\u001b[0m\u001b[0;34m\u001b[0m\u001b[0m\n",
      "\u001b[0;31mValueError\u001b[0m: XA must be a 2-dimensional array."
     ]
    }
   ],
   "source": [
    "scipy.spatial.distance.cdist(b, a, metric='euclidean')"
   ]
  },
  {
   "cell_type": "code",
   "execution_count": 24,
   "metadata": {},
   "outputs": [
    {
     "data": {
      "text/plain": [
       "array([[ 7.,  6.,  1.],\n",
       "       [ 4.,  3.,  4.],\n",
       "       [ 4.,  5., 12.]])"
      ]
     },
     "execution_count": 24,
     "metadata": {},
     "output_type": "execute_result"
    }
   ],
   "source": [
    "scipy.spatial.distance.cdist(a[:, numpy.newaxis], b[:, numpy.newaxis], metric='euclidean')"
   ]
  },
  {
   "cell_type": "code",
   "execution_count": 25,
   "metadata": {},
   "outputs": [
    {
     "data": {
      "text/plain": [
       "array([[14.2126704]])"
      ]
     },
     "execution_count": 25,
     "metadata": {},
     "output_type": "execute_result"
    }
   ],
   "source": [
    "scipy.spatial.distance.cdist(a[numpy.newaxis, :], b[numpy.newaxis, :], metric='euclidean')"
   ]
  },
  {
   "cell_type": "code",
   "execution_count": 26,
   "metadata": {},
   "outputs": [],
   "source": [
    "a = numpy.array([0, -1, 11])\n",
    "b = numpy.array([3, 7, 2])"
   ]
  },
  {
   "cell_type": "code",
   "execution_count": 27,
   "metadata": {},
   "outputs": [
    {
     "data": {
      "text/plain": [
       "array([ 0, -7, 22])"
      ]
     },
     "execution_count": 27,
     "metadata": {},
     "output_type": "execute_result"
    }
   ],
   "source": [
    "a*b"
   ]
  },
  {
   "cell_type": "code",
   "execution_count": 28,
   "metadata": {},
   "outputs": [
    {
     "data": {
      "text/plain": [
       "15"
      ]
     },
     "execution_count": 28,
     "metadata": {},
     "output_type": "execute_result"
    }
   ],
   "source": [
    "0*3 -7 +22"
   ]
  },
  {
   "cell_type": "code",
   "execution_count": 29,
   "metadata": {},
   "outputs": [
    {
     "data": {
      "text/plain": [
       "15"
      ]
     },
     "execution_count": 29,
     "metadata": {},
     "output_type": "execute_result"
    }
   ],
   "source": [
    "b.dot(a)"
   ]
  },
  {
   "cell_type": "code",
   "execution_count": 30,
   "metadata": {},
   "outputs": [
    {
     "data": {
      "text/plain": [
       "15"
      ]
     },
     "execution_count": 30,
     "metadata": {},
     "output_type": "execute_result"
    }
   ],
   "source": [
    "numpy.dot(a, b)"
   ]
  },
  {
   "cell_type": "code",
   "execution_count": 31,
   "metadata": {},
   "outputs": [
    {
     "data": {
      "text/plain": [
       "0.1724707686818527"
      ]
     },
     "execution_count": 31,
     "metadata": {},
     "output_type": "execute_result"
    }
   ],
   "source": [
    "numpy.dot(a, b) / numpy.linalg.norm(a) / numpy.linalg.norm(b)"
   ]
  },
  {
   "cell_type": "code",
   "execution_count": 35,
   "metadata": {},
   "outputs": [],
   "source": [
    "a = numpy.array([8, 10, -1, 0, 0])"
   ]
  },
  {
   "cell_type": "code",
   "execution_count": 36,
   "metadata": {},
   "outputs": [
    {
     "data": {
      "text/plain": [
       "array([[ 8, 10, -1,  0,  0]])"
      ]
     },
     "execution_count": 36,
     "metadata": {},
     "output_type": "execute_result"
    }
   ],
   "source": [
    "b = a.reshape((1, 5))\n",
    "b"
   ]
  },
  {
   "cell_type": "code",
   "execution_count": 37,
   "metadata": {},
   "outputs": [],
   "source": [
    "c = a[numpy.newaxis, :]"
   ]
  },
  {
   "cell_type": "code",
   "execution_count": 38,
   "metadata": {},
   "outputs": [
    {
     "data": {
      "text/plain": [
       "array([[ 8, 10, -1,  0,  0]])"
      ]
     },
     "execution_count": 38,
     "metadata": {},
     "output_type": "execute_result"
    }
   ],
   "source": [
    "c"
   ]
  },
  {
   "cell_type": "code",
   "execution_count": 40,
   "metadata": {},
   "outputs": [],
   "source": [
    "d = a.reshape((5, 1))"
   ]
  },
  {
   "cell_type": "code",
   "execution_count": 41,
   "metadata": {},
   "outputs": [
    {
     "data": {
      "text/plain": [
       "array([[ 8],\n",
       "       [10],\n",
       "       [-1],\n",
       "       [ 0],\n",
       "       [ 0]])"
      ]
     },
     "execution_count": 41,
     "metadata": {},
     "output_type": "execute_result"
    }
   ],
   "source": [
    "d"
   ]
  },
  {
   "cell_type": "code",
   "execution_count": 42,
   "metadata": {},
   "outputs": [
    {
     "data": {
      "text/plain": [
       "array([[ 8],\n",
       "       [10],\n",
       "       [-1],\n",
       "       [ 0],\n",
       "       [ 0]])"
      ]
     },
     "execution_count": 42,
     "metadata": {},
     "output_type": "execute_result"
    }
   ],
   "source": [
    "e = a[:, numpy.newaxis]\n",
    "e"
   ]
  },
  {
   "cell_type": "code",
   "execution_count": 4,
   "metadata": {},
   "outputs": [
    {
     "ename": "ValueError",
     "evalue": "only 2 non-keyword arguments accepted",
     "output_type": "error",
     "traceback": [
      "\u001b[0;31m---------------------------------------------------------------------------\u001b[0m",
      "\u001b[0;31mValueError\u001b[0m                                Traceback (most recent call last)",
      "\u001b[0;32m<ipython-input-4-f678a96877b0>\u001b[0m in \u001b[0;36m<module>\u001b[0;34m()\u001b[0m\n\u001b[0;32m----> 1\u001b[0;31m \u001b[0ma\u001b[0m \u001b[0;34m=\u001b[0m \u001b[0mnp\u001b[0m\u001b[0;34m.\u001b[0m\u001b[0marray\u001b[0m\u001b[0;34m(\u001b[0m\u001b[0;34m[\u001b[0m\u001b[0;36m4\u001b[0m\u001b[0;34m,\u001b[0m \u001b[0;36m3\u001b[0m\u001b[0;34m,\u001b[0m \u001b[0;36m2\u001b[0m\u001b[0;34m]\u001b[0m\u001b[0;34m,\u001b[0m \u001b[0;34m[\u001b[0m\u001b[0;36m2\u001b[0m\u001b[0;34m,\u001b[0m \u001b[0;36m9\u001b[0m\u001b[0;34m,\u001b[0m \u001b[0;36m1\u001b[0m\u001b[0;34m]\u001b[0m\u001b[0;34m,\u001b[0m \u001b[0;34m[\u001b[0m\u001b[0;36m3\u001b[0m\u001b[0;34m,\u001b[0m \u001b[0;36m1\u001b[0m\u001b[0;34m,\u001b[0m \u001b[0;36m9\u001b[0m\u001b[0;34m]\u001b[0m\u001b[0;34m)\u001b[0m\u001b[0;34m\u001b[0m\u001b[0m\n\u001b[0m",
      "\u001b[0;31mValueError\u001b[0m: only 2 non-keyword arguments accepted"
     ]
    }
   ],
   "source": [
    " a = np.array([4, 3, 2], [2, 9, 1], [3, 1, 9])\n"
   ]
  },
  {
   "cell_type": "code",
   "execution_count": 7,
   "metadata": {},
   "outputs": [
    {
     "data": {
      "text/plain": [
       "array([[1., 1., 1., 1., 1., 1., 1., 1., 1., 1.],\n",
       "       [1., 1., 1., 1., 1., 1., 1., 1., 1., 1.],\n",
       "       [1., 1., 1., 1., 1., 1., 1., 1., 1., 1.],\n",
       "       [1., 1., 1., 1., 1., 1., 1., 1., 1., 1.],\n",
       "       [1., 1., 1., 1., 1., 1., 1., 1., 1., 1.],\n",
       "       [1., 1., 1., 1., 1., 1., 1., 1., 1., 1.],\n",
       "       [1., 1., 1., 1., 1., 1., 1., 1., 1., 1.],\n",
       "       [1., 1., 1., 1., 1., 1., 1., 1., 1., 1.],\n",
       "       [1., 1., 1., 1., 1., 1., 1., 1., 1., 1.],\n",
       "       [1., 1., 1., 1., 1., 1., 1., 1., 1., 1.]])"
      ]
     },
     "execution_count": 7,
     "metadata": {},
     "output_type": "execute_result"
    }
   ],
   "source": [
    "d = np.ones((10, 10))\n",
    "d"
   ]
  },
  {
   "cell_type": "code",
   "execution_count": 8,
   "metadata": {},
   "outputs": [
    {
     "data": {
      "text/plain": [
       "array([[1., 0., 0.],\n",
       "       [0., 1., 0.]])"
      ]
     },
     "execution_count": 8,
     "metadata": {},
     "output_type": "execute_result"
    }
   ],
   "source": [
    " b = np.eye(2, 3)\n",
    " b"
   ]
  },
  {
   "cell_type": "code",
   "execution_count": 9,
   "metadata": {},
   "outputs": [
    {
     "data": {
      "text/plain": [
       "array([[ 1,  3],\n",
       "       [ 5,  7],\n",
       "       [ 9, 11]])"
      ]
     },
     "execution_count": 9,
     "metadata": {},
     "output_type": "execute_result"
    }
   ],
   "source": [
    "e = np.arange(1, 13, 2).reshape((3, 2))\n",
    "e"
   ]
  },
  {
   "cell_type": "code",
   "execution_count": 10,
   "metadata": {},
   "outputs": [
    {
     "ename": "TypeError",
     "evalue": "'tuple' object cannot be interpreted as an integer",
     "output_type": "error",
     "traceback": [
      "\u001b[0;31m---------------------------------------------------------------------------\u001b[0m",
      "\u001b[0;31mTypeError\u001b[0m                                 Traceback (most recent call last)",
      "\u001b[0;32m<ipython-input-10-f22f52fa50cc>\u001b[0m in \u001b[0;36m<module>\u001b[0;34m()\u001b[0m\n\u001b[0;32m----> 1\u001b[0;31m \u001b[0mc\u001b[0m \u001b[0;34m=\u001b[0m \u001b[0mnp\u001b[0m\u001b[0;34m.\u001b[0m\u001b[0meye\u001b[0m\u001b[0;34m(\u001b[0m\u001b[0;34m(\u001b[0m\u001b[0;36m4\u001b[0m\u001b[0;34m,\u001b[0m \u001b[0;36m5\u001b[0m\u001b[0;34m)\u001b[0m\u001b[0;34m)\u001b[0m\u001b[0;34m\u001b[0m\u001b[0m\n\u001b[0m\u001b[1;32m      2\u001b[0m \u001b[0mc\u001b[0m\u001b[0;34m\u001b[0m\u001b[0m\n",
      "\u001b[0;32m/anaconda3/lib/python3.6/site-packages/numpy/lib/twodim_base.py\u001b[0m in \u001b[0;36meye\u001b[0;34m(N, M, k, dtype, order)\u001b[0m\n\u001b[1;32m    184\u001b[0m     \u001b[0;32mif\u001b[0m \u001b[0mM\u001b[0m \u001b[0;32mis\u001b[0m \u001b[0;32mNone\u001b[0m\u001b[0;34m:\u001b[0m\u001b[0;34m\u001b[0m\u001b[0m\n\u001b[1;32m    185\u001b[0m         \u001b[0mM\u001b[0m \u001b[0;34m=\u001b[0m \u001b[0mN\u001b[0m\u001b[0;34m\u001b[0m\u001b[0m\n\u001b[0;32m--> 186\u001b[0;31m     \u001b[0mm\u001b[0m \u001b[0;34m=\u001b[0m \u001b[0mzeros\u001b[0m\u001b[0;34m(\u001b[0m\u001b[0;34m(\u001b[0m\u001b[0mN\u001b[0m\u001b[0;34m,\u001b[0m \u001b[0mM\u001b[0m\u001b[0;34m)\u001b[0m\u001b[0;34m,\u001b[0m \u001b[0mdtype\u001b[0m\u001b[0;34m=\u001b[0m\u001b[0mdtype\u001b[0m\u001b[0;34m,\u001b[0m \u001b[0morder\u001b[0m\u001b[0;34m=\u001b[0m\u001b[0morder\u001b[0m\u001b[0;34m)\u001b[0m\u001b[0;34m\u001b[0m\u001b[0m\n\u001b[0m\u001b[1;32m    187\u001b[0m     \u001b[0;32mif\u001b[0m \u001b[0mk\u001b[0m \u001b[0;34m>=\u001b[0m \u001b[0mM\u001b[0m\u001b[0;34m:\u001b[0m\u001b[0;34m\u001b[0m\u001b[0m\n\u001b[1;32m    188\u001b[0m         \u001b[0;32mreturn\u001b[0m \u001b[0mm\u001b[0m\u001b[0;34m\u001b[0m\u001b[0m\n",
      "\u001b[0;31mTypeError\u001b[0m: 'tuple' object cannot be interpreted as an integer"
     ]
    }
   ],
   "source": [
    "c = np.eye((4, 5))\n",
    "c"
   ]
  },
  {
   "cell_type": "code",
   "execution_count": 11,
   "metadata": {},
   "outputs": [
    {
     "data": {
      "text/plain": [
       "array([0., 1.])"
      ]
     },
     "execution_count": 11,
     "metadata": {},
     "output_type": "execute_result"
    }
   ],
   "source": [
    "a = np.eye(4, 5)\n",
    "a[[0, 3], [1, 3]]"
   ]
  },
  {
   "cell_type": "markdown",
   "metadata": {},
   "source": [
    " # Задача 1: сравнение предложений"
   ]
  },
  {
   "cell_type": "markdown",
   "metadata": {},
   "source": [
    "https://gist.github.com/lexnekr/2f1cb554651027970ab14ebaed8b3960\n",
    "\n"
   ]
  },
  {
   "cell_type": "code",
   "execution_count": 1,
   "metadata": {},
   "outputs": [],
   "source": [
    "f = open('sentences.txt', 'r')"
   ]
  },
  {
   "cell_type": "code",
   "execution_count": 2,
   "metadata": {},
   "outputs": [],
   "source": [
    "lines = []\n",
    "for line in f:\n",
    "     lines.append(line.lower())"
   ]
  },
  {
   "cell_type": "code",
   "execution_count": 3,
   "metadata": {},
   "outputs": [
    {
     "data": {
      "text/plain": [
       "['in comparison to dogs, cats have not undergone major changes during the domestication process.\\n',\n",
       " 'as cat simply catenates streams of bytes, it can be also used to concatenate binary files, where it will just concatenate sequence of bytes.\\n',\n",
       " 'a common interactive use of cat for a single file is to output the content of a file to standard output.\\n',\n",
       " 'cats can hear sounds too faint or too high in frequency for human ears, such as those made by mice and other small animals.\\n',\n",
       " 'in one, people deliberately tamed cats in a process of artificial selection, as they were useful predators of vermin.\\n',\n",
       " 'the domesticated cat and its closest wild ancestor are both diploid organisms that possess 38 chromosomes and roughly 20,000 genes.\\n',\n",
       " 'domestic cats are similar in size to the other members of the genus felis, typically weighing between 4 and 5 kg (8.8 and 11.0 lb).\\n',\n",
       " 'however, if the output is piped or redirected, cat is unnecessary.\\n',\n",
       " 'cat with one named file is safer where human error is a concern - one wrong use of the default redirection symbol \">\" instead of \"<\" (often adjacent on keyboards) may permanently delete the file you were just needing to read.\\n',\n",
       " 'in terms of legibility, a sequence of commands starting with cat and connected by pipes has a clear left-to-right flow of information.\\n',\n",
       " 'cat command is one of the basic commands that you learned when you started in the unix / linux world.\\n',\n",
       " 'using cat command, the lines received from stdin can be redirected to a new file using redirection symbols.\\n',\n",
       " 'when you type simply cat command without any arguments, it just receives the stdin content and displays it in the stdout.\\n',\n",
       " 'leopard was released on october 26, 2007 as the successor of tiger (version 10.4), and is available in two editions.\\n',\n",
       " 'according to apple, leopard contains over 300 changes and enhancements over its predecessor, mac os x tiger.\\n',\n",
       " 'as of mid 2010, some apple computers have firmware factory installed which will no longer allow installation of mac os x leopard.\\n',\n",
       " 'since apple moved to using intel processors in their computers, the osx86 community has developed and now also allows mac os x tiger and later releases to be installed on non-apple x86-based computers.\\n',\n",
       " \"os x mountain lion was released on july 25, 2012 for purchase and download through apple's mac app store, as part of a switch to releasing os x versions online and every year.\\n\",\n",
       " 'apple has released a small patch for the three most recent versions of safari running on os x yosemite, mavericks, and mountain lion.\\n',\n",
       " 'the mountain lion release marks the second time apple has offered an incremental upgrade, rather than releasing a new cat entirely.\\n',\n",
       " \"mac os x mountain lion installs in place, so you won't need to create a separate disk or run the installation off an external drive.\\n\",\n",
       " \"the fifth major update to mac os x, leopard, contains such a mountain of features - more than 300 by apple's count.\"]"
      ]
     },
     "execution_count": 3,
     "metadata": {},
     "output_type": "execute_result"
    }
   ],
   "source": [
    "lines"
   ]
  },
  {
   "cell_type": "code",
   "execution_count": 160,
   "metadata": {},
   "outputs": [
    {
     "name": "stdout",
     "output_type": "stream",
     "text": [
      "{'in': 1, 'comparison': 1, 'to': 1, 'dogs': 1, 'cats': 1, 'have': 1, 'not': 1, 'undergone': 1, 'major': 1, 'changes': 1, 'during': 1, 'the': 1, 'domestication': 1, 'process': 1}\n",
      "{'as': 1, 'cat': 1, 'simply': 1, 'catenates': 1, 'streams': 1, 'of': 2, 'bytes': 2, 'it': 2, 'can': 1, 'be': 1, 'also': 1, 'used': 1, 'to': 1, 'concatenate': 2, 'binary': 1, 'files': 1, 'where': 1, 'will': 1, 'just': 1, 'sequence': 1}\n",
      "{'a': 3, 'common': 1, 'interactive': 1, 'use': 1, 'of': 2, 'cat': 1, 'for': 1, 'single': 1, 'file': 2, 'is': 1, 'to': 2, 'output': 2, 'the': 1, 'content': 1, 'standard': 1}\n",
      "{'cats': 1, 'can': 1, 'hear': 1, 'sounds': 1, 'too': 2, 'faint': 1, 'or': 1, 'high': 1, 'in': 1, 'frequency': 1, 'for': 1, 'human': 1, 'ears': 1, 'such': 1, 'as': 1, 'those': 1, 'made': 1, 'by': 1, 'mice': 1, 'and': 1, 'other': 1, 'small': 1, 'animals': 1}\n",
      "{'in': 2, 'one': 1, 'people': 1, 'deliberately': 1, 'tamed': 1, 'cats': 1, 'a': 1, 'process': 1, 'of': 2, 'artificial': 1, 'selection': 1, 'as': 1, 'they': 1, 'were': 1, 'useful': 1, 'predators': 1, 'vermin': 1}\n",
      "{'the': 1, 'domesticated': 1, 'cat': 1, 'and': 2, 'its': 1, 'closest': 1, 'wild': 1, 'ancestor': 1, 'are': 1, 'both': 1, 'diploid': 1, 'organisms': 1, 'that': 1, 'possess': 1, 'chromosomes': 1, 'roughly': 1, 'genes': 1}\n",
      "{'domestic': 1, 'cats': 1, 'are': 1, 'similar': 1, 'in': 1, 'size': 1, 'to': 1, 'the': 2, 'other': 1, 'members': 1, 'of': 1, 'genus': 1, 'felis': 1, 'typically': 1, 'weighing': 1, 'between': 1, 'and': 2, 'kg': 1, 'lb': 1}\n",
      "{'however': 1, 'if': 1, 'the': 1, 'output': 1, 'is': 2, 'piped': 1, 'or': 1, 'redirected': 1, 'cat': 1, 'unnecessary': 1}\n",
      "{'cat': 1, 'with': 1, 'one': 2, 'named': 1, 'file': 2, 'is': 2, 'safer': 1, 'where': 1, 'human': 1, 'error': 1, 'a': 1, 'concern': 1, 'wrong': 1, 'use': 1, 'of': 2, 'the': 2, 'default': 1, 'redirection': 1, 'symbol': 1, 'instead': 1, 'often': 1, 'adjacent': 1, 'on': 1, 'keyboards': 1, 'may': 1, 'permanently': 1, 'delete': 1, 'you': 1, 'were': 1, 'just': 1, 'needing': 1, 'to': 1, 'read': 1}\n",
      "{'in': 1, 'terms': 1, 'of': 3, 'legibility': 1, 'a': 2, 'sequence': 1, 'commands': 1, 'starting': 1, 'with': 1, 'cat': 1, 'and': 1, 'connected': 1, 'by': 1, 'pipes': 1, 'has': 1, 'clear': 1, 'left': 1, 'to': 1, 'right': 1, 'flow': 1, 'information': 1}\n",
      "{'cat': 1, 'command': 1, 'is': 1, 'one': 1, 'of': 1, 'the': 2, 'basic': 1, 'commands': 1, 'that': 1, 'you': 2, 'learned': 1, 'when': 1, 'started': 1, 'in': 1, 'unix': 1, 'linux': 1, 'world': 1}\n",
      "{'using': 2, 'cat': 1, 'command': 1, 'the': 1, 'lines': 1, 'received': 1, 'from': 1, 'stdin': 1, 'can': 1, 'be': 1, 'redirected': 1, 'to': 1, 'a': 1, 'new': 1, 'file': 1, 'redirection': 1, 'symbols': 1}\n",
      "{'when': 1, 'you': 1, 'type': 1, 'simply': 1, 'cat': 1, 'command': 1, 'without': 1, 'any': 1, 'arguments': 1, 'it': 2, 'just': 1, 'receives': 1, 'the': 2, 'stdin': 1, 'content': 1, 'and': 1, 'displays': 1, 'in': 1, 'stdout': 1}\n",
      "{'leopard': 1, 'was': 1, 'released': 1, 'on': 1, 'october': 1, 'as': 1, 'the': 1, 'successor': 1, 'of': 1, 'tiger': 1, 'version': 1, 'and': 1, 'is': 1, 'available': 1, 'in': 1, 'two': 1, 'editions': 1}\n",
      "{'according': 1, 'to': 1, 'apple': 1, 'leopard': 1, 'contains': 1, 'over': 2, 'changes': 1, 'and': 1, 'enhancements': 1, 'its': 1, 'predecessor': 1, 'mac': 1, 'os': 1, 'x': 1, 'tiger': 1}\n",
      "{'as': 1, 'of': 2, 'mid': 1, 'some': 1, 'apple': 1, 'computers': 1, 'have': 1, 'firmware': 1, 'factory': 1, 'installed': 1, 'which': 1, 'will': 1, 'no': 1, 'longer': 1, 'allow': 1, 'installation': 1, 'mac': 1, 'os': 1, 'x': 1, 'leopard': 1}\n",
      "{'since': 1, 'apple': 2, 'moved': 1, 'to': 2, 'using': 1, 'intel': 1, 'processors': 1, 'in': 1, 'their': 1, 'computers': 2, 'the': 1, 'osx': 1, 'community': 1, 'has': 1, 'developed': 1, 'and': 2, 'now': 1, 'also': 1, 'allows': 1, 'mac': 1, 'os': 1, 'x': 2, 'tiger': 1, 'later': 1, 'releases': 1, 'be': 1, 'installed': 1, 'on': 1, 'non': 1, 'based': 1}\n",
      "{'os': 2, 'x': 2, 'mountain': 1, 'lion': 1, 'was': 1, 'released': 1, 'on': 1, 'july': 1, 'for': 1, 'purchase': 1, 'and': 2, 'download': 1, 'through': 1, 'apple': 1, 's': 1, 'mac': 1, 'app': 1, 'store': 1, 'as': 1, 'part': 1, 'of': 1, 'a': 1, 'switch': 1, 'to': 1, 'releasing': 1, 'versions': 1, 'online': 1, 'every': 1, 'year': 1}\n",
      "{'apple': 1, 'has': 1, 'released': 1, 'a': 1, 'small': 1, 'patch': 1, 'for': 1, 'the': 1, 'three': 1, 'most': 1, 'recent': 1, 'versions': 1, 'of': 1, 'safari': 1, 'running': 1, 'on': 1, 'os': 1, 'x': 1, 'yosemite': 1, 'mavericks': 1, 'and': 1, 'mountain': 1, 'lion': 1}\n",
      "{'the': 2, 'mountain': 1, 'lion': 1, 'release': 1, 'marks': 1, 'second': 1, 'time': 1, 'apple': 1, 'has': 1, 'offered': 1, 'an': 1, 'incremental': 1, 'upgrade': 1, 'rather': 1, 'than': 1, 'releasing': 1, 'a': 1, 'new': 1, 'cat': 1, 'entirely': 1}\n",
      "{'mac': 1, 'os': 1, 'x': 1, 'mountain': 1, 'lion': 1, 'installs': 1, 'in': 1, 'place': 1, 'so': 1, 'you': 1, 'won': 1, 't': 1, 'need': 1, 'to': 1, 'create': 1, 'a': 1, 'separate': 1, 'disk': 1, 'or': 1, 'run': 1, 'the': 1, 'installation': 1, 'off': 1, 'an': 1, 'external': 1, 'drive': 1}\n",
      "{'the': 1, 'fifth': 1, 'major': 1, 'update': 1, 'to': 1, 'mac': 1, 'os': 1, 'x': 1, 'leopard': 1, 'contains': 1, 'such': 1, 'a': 1, 'mountain': 1, 'of': 1, 'features': 1, 'more': 1, 'than': 1, 'by': 1, 'apple': 1, 's': 1, 'count': 1}\n",
      "[{'in': 1, 'comparison': 1, 'to': 1, 'dogs': 1, 'cats': 1, 'have': 1, 'not': 1, 'undergone': 1, 'major': 1, 'changes': 1, 'during': 1, 'the': 1, 'domestication': 1, 'process': 1}, {'as': 1, 'cat': 1, 'simply': 1, 'catenates': 1, 'streams': 1, 'of': 2, 'bytes': 2, 'it': 2, 'can': 1, 'be': 1, 'also': 1, 'used': 1, 'to': 1, 'concatenate': 2, 'binary': 1, 'files': 1, 'where': 1, 'will': 1, 'just': 1, 'sequence': 1}, {'a': 3, 'common': 1, 'interactive': 1, 'use': 1, 'of': 2, 'cat': 1, 'for': 1, 'single': 1, 'file': 2, 'is': 1, 'to': 2, 'output': 2, 'the': 1, 'content': 1, 'standard': 1}, {'cats': 1, 'can': 1, 'hear': 1, 'sounds': 1, 'too': 2, 'faint': 1, 'or': 1, 'high': 1, 'in': 1, 'frequency': 1, 'for': 1, 'human': 1, 'ears': 1, 'such': 1, 'as': 1, 'those': 1, 'made': 1, 'by': 1, 'mice': 1, 'and': 1, 'other': 1, 'small': 1, 'animals': 1}, {'in': 2, 'one': 1, 'people': 1, 'deliberately': 1, 'tamed': 1, 'cats': 1, 'a': 1, 'process': 1, 'of': 2, 'artificial': 1, 'selection': 1, 'as': 1, 'they': 1, 'were': 1, 'useful': 1, 'predators': 1, 'vermin': 1}, {'the': 1, 'domesticated': 1, 'cat': 1, 'and': 2, 'its': 1, 'closest': 1, 'wild': 1, 'ancestor': 1, 'are': 1, 'both': 1, 'diploid': 1, 'organisms': 1, 'that': 1, 'possess': 1, 'chromosomes': 1, 'roughly': 1, 'genes': 1}, {'domestic': 1, 'cats': 1, 'are': 1, 'similar': 1, 'in': 1, 'size': 1, 'to': 1, 'the': 2, 'other': 1, 'members': 1, 'of': 1, 'genus': 1, 'felis': 1, 'typically': 1, 'weighing': 1, 'between': 1, 'and': 2, 'kg': 1, 'lb': 1}, {'however': 1, 'if': 1, 'the': 1, 'output': 1, 'is': 2, 'piped': 1, 'or': 1, 'redirected': 1, 'cat': 1, 'unnecessary': 1}, {'cat': 1, 'with': 1, 'one': 2, 'named': 1, 'file': 2, 'is': 2, 'safer': 1, 'where': 1, 'human': 1, 'error': 1, 'a': 1, 'concern': 1, 'wrong': 1, 'use': 1, 'of': 2, 'the': 2, 'default': 1, 'redirection': 1, 'symbol': 1, 'instead': 1, 'often': 1, 'adjacent': 1, 'on': 1, 'keyboards': 1, 'may': 1, 'permanently': 1, 'delete': 1, 'you': 1, 'were': 1, 'just': 1, 'needing': 1, 'to': 1, 'read': 1}, {'in': 1, 'terms': 1, 'of': 3, 'legibility': 1, 'a': 2, 'sequence': 1, 'commands': 1, 'starting': 1, 'with': 1, 'cat': 1, 'and': 1, 'connected': 1, 'by': 1, 'pipes': 1, 'has': 1, 'clear': 1, 'left': 1, 'to': 1, 'right': 1, 'flow': 1, 'information': 1}, {'cat': 1, 'command': 1, 'is': 1, 'one': 1, 'of': 1, 'the': 2, 'basic': 1, 'commands': 1, 'that': 1, 'you': 2, 'learned': 1, 'when': 1, 'started': 1, 'in': 1, 'unix': 1, 'linux': 1, 'world': 1}, {'using': 2, 'cat': 1, 'command': 1, 'the': 1, 'lines': 1, 'received': 1, 'from': 1, 'stdin': 1, 'can': 1, 'be': 1, 'redirected': 1, 'to': 1, 'a': 1, 'new': 1, 'file': 1, 'redirection': 1, 'symbols': 1}, {'when': 1, 'you': 1, 'type': 1, 'simply': 1, 'cat': 1, 'command': 1, 'without': 1, 'any': 1, 'arguments': 1, 'it': 2, 'just': 1, 'receives': 1, 'the': 2, 'stdin': 1, 'content': 1, 'and': 1, 'displays': 1, 'in': 1, 'stdout': 1}, {'leopard': 1, 'was': 1, 'released': 1, 'on': 1, 'october': 1, 'as': 1, 'the': 1, 'successor': 1, 'of': 1, 'tiger': 1, 'version': 1, 'and': 1, 'is': 1, 'available': 1, 'in': 1, 'two': 1, 'editions': 1}, {'according': 1, 'to': 1, 'apple': 1, 'leopard': 1, 'contains': 1, 'over': 2, 'changes': 1, 'and': 1, 'enhancements': 1, 'its': 1, 'predecessor': 1, 'mac': 1, 'os': 1, 'x': 1, 'tiger': 1}, {'as': 1, 'of': 2, 'mid': 1, 'some': 1, 'apple': 1, 'computers': 1, 'have': 1, 'firmware': 1, 'factory': 1, 'installed': 1, 'which': 1, 'will': 1, 'no': 1, 'longer': 1, 'allow': 1, 'installation': 1, 'mac': 1, 'os': 1, 'x': 1, 'leopard': 1}, {'since': 1, 'apple': 2, 'moved': 1, 'to': 2, 'using': 1, 'intel': 1, 'processors': 1, 'in': 1, 'their': 1, 'computers': 2, 'the': 1, 'osx': 1, 'community': 1, 'has': 1, 'developed': 1, 'and': 2, 'now': 1, 'also': 1, 'allows': 1, 'mac': 1, 'os': 1, 'x': 2, 'tiger': 1, 'later': 1, 'releases': 1, 'be': 1, 'installed': 1, 'on': 1, 'non': 1, 'based': 1}, {'os': 2, 'x': 2, 'mountain': 1, 'lion': 1, 'was': 1, 'released': 1, 'on': 1, 'july': 1, 'for': 1, 'purchase': 1, 'and': 2, 'download': 1, 'through': 1, 'apple': 1, 's': 1, 'mac': 1, 'app': 1, 'store': 1, 'as': 1, 'part': 1, 'of': 1, 'a': 1, 'switch': 1, 'to': 1, 'releasing': 1, 'versions': 1, 'online': 1, 'every': 1, 'year': 1}, {'apple': 1, 'has': 1, 'released': 1, 'a': 1, 'small': 1, 'patch': 1, 'for': 1, 'the': 1, 'three': 1, 'most': 1, 'recent': 1, 'versions': 1, 'of': 1, 'safari': 1, 'running': 1, 'on': 1, 'os': 1, 'x': 1, 'yosemite': 1, 'mavericks': 1, 'and': 1, 'mountain': 1, 'lion': 1}, {'the': 2, 'mountain': 1, 'lion': 1, 'release': 1, 'marks': 1, 'second': 1, 'time': 1, 'apple': 1, 'has': 1, 'offered': 1, 'an': 1, 'incremental': 1, 'upgrade': 1, 'rather': 1, 'than': 1, 'releasing': 1, 'a': 1, 'new': 1, 'cat': 1, 'entirely': 1}, {'mac': 1, 'os': 1, 'x': 1, 'mountain': 1, 'lion': 1, 'installs': 1, 'in': 1, 'place': 1, 'so': 1, 'you': 1, 'won': 1, 't': 1, 'need': 1, 'to': 1, 'create': 1, 'a': 1, 'separate': 1, 'disk': 1, 'or': 1, 'run': 1, 'the': 1, 'installation': 1, 'off': 1, 'an': 1, 'external': 1, 'drive': 1}, {'the': 1, 'fifth': 1, 'major': 1, 'update': 1, 'to': 1, 'mac': 1, 'os': 1, 'x': 1, 'leopard': 1, 'contains': 1, 'such': 1, 'a': 1, 'mountain': 1, 'of': 1, 'features': 1, 'more': 1, 'than': 1, 'by': 1, 'apple': 1, 's': 1, 'count': 1}]\n"
     ]
    }
   ],
   "source": [
    "import re\n",
    "\n",
    "\n",
    "# список всех слов\n",
    "words_list = dict()\n",
    "num = 0\n",
    "for line in lines:\n",
    "    \n",
    "    row_words  = re.split('[^a-z]', line)\n",
    "    \n",
    "    for row_word in row_words:\n",
    "         if row_word == '' or (row_word in words_list):\n",
    "            continue\n",
    "         else:\n",
    "            \n",
    "            words_list[row_word] = num\n",
    "            num += 1\n",
    "            \n",
    "\n",
    "words_lines = []\n",
    "for line in lines:\n",
    "    line_num += 1\n",
    "    \n",
    "    \n",
    "    words =[]\n",
    "    words_frequencies = dict()\n",
    "    \n",
    "    row_words  = re.split('[^a-z]', line)\n",
    "    for row_word in row_words:\n",
    "         if row_word == '':\n",
    "            continue\n",
    "         else:\n",
    "            words.append(row_word)\n",
    "    \n",
    "    for word in words:\n",
    "        if word in words_frequencies:\n",
    "            words_frequencies[word] += 1\n",
    "        else:  \n",
    "            words_frequencies[word] = 1\n",
    "         \n",
    "    words_lines.append(words_frequencies) \n",
    "    print (words_frequencies) \n",
    "    \n",
    "print (words_lines)    "
   ]
  },
  {
   "cell_type": "code",
   "execution_count": 161,
   "metadata": {},
   "outputs": [
    {
     "data": {
      "text/plain": [
       "{'a': 33,\n",
       " 'according': 167,\n",
       " 'adjacent': 114,\n",
       " 'allow': 185,\n",
       " 'allows': 196,\n",
       " 'also': 24,\n",
       " 'an': 230,\n",
       " 'ancestor': 77,\n",
       " 'and': 58,\n",
       " 'animals': 61,\n",
       " 'any': 152,\n",
       " 'app': 208,\n",
       " 'apple': 168,\n",
       " 'are': 78,\n",
       " 'arguments': 153,\n",
       " 'artificial': 66,\n",
       " 'as': 14,\n",
       " 'available': 164,\n",
       " 'based': 200,\n",
       " 'basic': 136,\n",
       " 'be': 23,\n",
       " 'between': 95,\n",
       " 'binary': 27,\n",
       " 'both': 79,\n",
       " 'by': 56,\n",
       " 'bytes': 20,\n",
       " 'can': 22,\n",
       " 'cat': 15,\n",
       " 'catenates': 17,\n",
       " 'cats': 4,\n",
       " 'changes': 9,\n",
       " 'chromosomes': 84,\n",
       " 'clear': 130,\n",
       " 'closest': 75,\n",
       " 'command': 135,\n",
       " 'commands': 125,\n",
       " 'common': 34,\n",
       " 'community': 193,\n",
       " 'comparison': 1,\n",
       " 'computers': 178,\n",
       " 'concatenate': 26,\n",
       " 'concern': 107,\n",
       " 'connected': 127,\n",
       " 'contains': 169,\n",
       " 'content': 42,\n",
       " 'count': 253,\n",
       " 'create': 242,\n",
       " 'default': 109,\n",
       " 'delete': 119,\n",
       " 'deliberately': 64,\n",
       " 'developed': 194,\n",
       " 'diploid': 80,\n",
       " 'disk': 244,\n",
       " 'displays': 155,\n",
       " 'dogs': 3,\n",
       " 'domestic': 87,\n",
       " 'domesticated': 73,\n",
       " 'domestication': 12,\n",
       " 'download': 205,\n",
       " 'drive': 248,\n",
       " 'during': 10,\n",
       " 'ears': 52,\n",
       " 'editions': 166,\n",
       " 'enhancements': 171,\n",
       " 'entirely': 235,\n",
       " 'error': 106,\n",
       " 'every': 215,\n",
       " 'external': 247,\n",
       " 'factory': 180,\n",
       " 'faint': 47,\n",
       " 'features': 251,\n",
       " 'felis': 92,\n",
       " 'fifth': 249,\n",
       " 'file': 39,\n",
       " 'files': 28,\n",
       " 'firmware': 179,\n",
       " 'flow': 133,\n",
       " 'for': 37,\n",
       " 'frequency': 50,\n",
       " 'from': 146,\n",
       " 'genes': 86,\n",
       " 'genus': 91,\n",
       " 'has': 129,\n",
       " 'have': 5,\n",
       " 'hear': 44,\n",
       " 'high': 49,\n",
       " 'however': 98,\n",
       " 'human': 51,\n",
       " 'if': 99,\n",
       " 'in': 0,\n",
       " 'incremental': 231,\n",
       " 'information': 134,\n",
       " 'installation': 186,\n",
       " 'installed': 181,\n",
       " 'installs': 236,\n",
       " 'instead': 112,\n",
       " 'intel': 189,\n",
       " 'interactive': 35,\n",
       " 'is': 40,\n",
       " 'it': 21,\n",
       " 'its': 74,\n",
       " 'july': 203,\n",
       " 'just': 31,\n",
       " 'keyboards': 116,\n",
       " 'kg': 96,\n",
       " 'later': 197,\n",
       " 'lb': 97,\n",
       " 'learned': 137,\n",
       " 'left': 131,\n",
       " 'legibility': 124,\n",
       " 'leopard': 157,\n",
       " 'lines': 144,\n",
       " 'linux': 141,\n",
       " 'lion': 202,\n",
       " 'longer': 184,\n",
       " 'mac': 173,\n",
       " 'made': 55,\n",
       " 'major': 8,\n",
       " 'marks': 226,\n",
       " 'mavericks': 224,\n",
       " 'may': 117,\n",
       " 'members': 90,\n",
       " 'mice': 57,\n",
       " 'mid': 176,\n",
       " 'more': 252,\n",
       " 'most': 219,\n",
       " 'mountain': 201,\n",
       " 'moved': 188,\n",
       " 'named': 104,\n",
       " 'need': 241,\n",
       " 'needing': 121,\n",
       " 'new': 148,\n",
       " 'no': 183,\n",
       " 'non': 199,\n",
       " 'not': 6,\n",
       " 'now': 195,\n",
       " 'october': 160,\n",
       " 'of': 19,\n",
       " 'off': 246,\n",
       " 'offered': 229,\n",
       " 'often': 113,\n",
       " 'on': 115,\n",
       " 'one': 62,\n",
       " 'online': 214,\n",
       " 'or': 48,\n",
       " 'organisms': 81,\n",
       " 'os': 174,\n",
       " 'osx': 192,\n",
       " 'other': 59,\n",
       " 'output': 41,\n",
       " 'over': 170,\n",
       " 'part': 210,\n",
       " 'patch': 217,\n",
       " 'people': 63,\n",
       " 'permanently': 118,\n",
       " 'piped': 100,\n",
       " 'pipes': 128,\n",
       " 'place': 237,\n",
       " 'possess': 83,\n",
       " 'predators': 71,\n",
       " 'predecessor': 172,\n",
       " 'process': 13,\n",
       " 'processors': 190,\n",
       " 'purchase': 204,\n",
       " 'rather': 233,\n",
       " 'read': 122,\n",
       " 'received': 145,\n",
       " 'receives': 154,\n",
       " 'recent': 220,\n",
       " 'redirected': 101,\n",
       " 'redirection': 110,\n",
       " 'release': 225,\n",
       " 'released': 159,\n",
       " 'releases': 198,\n",
       " 'releasing': 212,\n",
       " 'right': 132,\n",
       " 'roughly': 85,\n",
       " 'run': 245,\n",
       " 'running': 222,\n",
       " 's': 207,\n",
       " 'safari': 221,\n",
       " 'safer': 105,\n",
       " 'second': 227,\n",
       " 'selection': 67,\n",
       " 'separate': 243,\n",
       " 'sequence': 32,\n",
       " 'similar': 88,\n",
       " 'simply': 16,\n",
       " 'since': 187,\n",
       " 'single': 38,\n",
       " 'size': 89,\n",
       " 'small': 60,\n",
       " 'so': 238,\n",
       " 'some': 177,\n",
       " 'sounds': 45,\n",
       " 'standard': 43,\n",
       " 'started': 139,\n",
       " 'starting': 126,\n",
       " 'stdin': 147,\n",
       " 'stdout': 156,\n",
       " 'store': 209,\n",
       " 'streams': 18,\n",
       " 'successor': 161,\n",
       " 'such': 53,\n",
       " 'switch': 211,\n",
       " 'symbol': 111,\n",
       " 'symbols': 149,\n",
       " 't': 240,\n",
       " 'tamed': 65,\n",
       " 'terms': 123,\n",
       " 'than': 234,\n",
       " 'that': 82,\n",
       " 'the': 11,\n",
       " 'their': 191,\n",
       " 'they': 68,\n",
       " 'those': 54,\n",
       " 'three': 218,\n",
       " 'through': 206,\n",
       " 'tiger': 162,\n",
       " 'time': 228,\n",
       " 'to': 2,\n",
       " 'too': 46,\n",
       " 'two': 165,\n",
       " 'type': 150,\n",
       " 'typically': 93,\n",
       " 'undergone': 7,\n",
       " 'unix': 140,\n",
       " 'unnecessary': 102,\n",
       " 'update': 250,\n",
       " 'upgrade': 232,\n",
       " 'use': 36,\n",
       " 'used': 25,\n",
       " 'useful': 70,\n",
       " 'using': 143,\n",
       " 'vermin': 72,\n",
       " 'version': 163,\n",
       " 'versions': 213,\n",
       " 'was': 158,\n",
       " 'weighing': 94,\n",
       " 'were': 69,\n",
       " 'when': 138,\n",
       " 'where': 29,\n",
       " 'which': 182,\n",
       " 'wild': 76,\n",
       " 'will': 30,\n",
       " 'with': 103,\n",
       " 'without': 151,\n",
       " 'won': 239,\n",
       " 'world': 142,\n",
       " 'wrong': 108,\n",
       " 'x': 175,\n",
       " 'year': 216,\n",
       " 'yosemite': 223,\n",
       " 'you': 120}"
      ]
     },
     "execution_count": 161,
     "metadata": {},
     "output_type": "execute_result"
    }
   ],
   "source": [
    "words_list"
   ]
  },
  {
   "cell_type": "code",
   "execution_count": 162,
   "metadata": {},
   "outputs": [],
   "source": [
    "import numpy as np\n",
    "c = np.zeros((len(words_lines), len(words_list)))"
   ]
  },
  {
   "cell_type": "code",
   "execution_count": 163,
   "metadata": {},
   "outputs": [
    {
     "data": {
      "text/plain": [
       "array([[0., 0., 0., ..., 0., 0., 0.],\n",
       "       [0., 0., 0., ..., 0., 0., 0.],\n",
       "       [0., 0., 0., ..., 0., 0., 0.],\n",
       "       ...,\n",
       "       [0., 0., 0., ..., 0., 0., 0.],\n",
       "       [0., 0., 0., ..., 0., 0., 0.],\n",
       "       [0., 0., 0., ..., 0., 0., 0.]])"
      ]
     },
     "execution_count": 163,
     "metadata": {},
     "output_type": "execute_result"
    }
   ],
   "source": [
    "c"
   ]
  },
  {
   "cell_type": "code",
   "execution_count": 164,
   "metadata": {},
   "outputs": [
    {
     "data": {
      "text/plain": [
       "22"
      ]
     },
     "execution_count": 164,
     "metadata": {},
     "output_type": "execute_result"
    }
   ],
   "source": [
    "len (c)"
   ]
  },
  {
   "cell_type": "code",
   "execution_count": 165,
   "metadata": {},
   "outputs": [
    {
     "ename": "TypeError",
     "evalue": "string indices must be integers",
     "output_type": "error",
     "traceback": [
      "\u001b[0;31m---------------------------------------------------------------------------\u001b[0m",
      "\u001b[0;31mTypeError\u001b[0m                                 Traceback (most recent call last)",
      "\u001b[0;32m<ipython-input-165-f9f28fa7929a>\u001b[0m in \u001b[0;36m<module>\u001b[0;34m()\u001b[0m\n\u001b[0;32m----> 1\u001b[0;31m \u001b[0mline\u001b[0m\u001b[0;34m[\u001b[0m\u001b[0;34m'cats'\u001b[0m\u001b[0;34m]\u001b[0m\u001b[0;34m\u001b[0m\u001b[0m\n\u001b[0m",
      "\u001b[0;31mTypeError\u001b[0m: string indices must be integers"
     ]
    }
   ],
   "source": [
    "line['cats']"
   ]
  },
  {
   "cell_type": "code",
   "execution_count": 166,
   "metadata": {},
   "outputs": [
    {
     "name": "stdout",
     "output_type": "stream",
     "text": [
      "1\n",
      "2\n",
      "3\n",
      "4\n",
      "5\n",
      "6\n",
      "7\n",
      "8\n",
      "9\n",
      "10\n",
      "11\n",
      "12\n",
      "13\n",
      "14\n",
      "15\n",
      "16\n",
      "17\n",
      "18\n",
      "19\n",
      "20\n",
      "21\n",
      "22\n"
     ]
    }
   ],
   "source": [
    "line_num = 0\n",
    "for line in words_lines:\n",
    "    \n",
    "    #print (line)\n",
    "    for word in line:\n",
    "        #print (line[word])\n",
    "        #print (words_list[word])\n",
    "        \n",
    "        c[line_num, words_list[word]-1] =  line[word]    \n",
    "    \n",
    "    line_num +=1   \n",
    "    print (line_num)\n",
    "    \n",
    "    #for col_num in range(1,len(words_list)+1): \n",
    "        "
   ]
  },
  {
   "cell_type": "code",
   "execution_count": 167,
   "metadata": {},
   "outputs": [
    {
     "data": {
      "text/plain": [
       "array([[1., 1., 1., ..., 0., 0., 1.],\n",
       "       [0., 1., 0., ..., 0., 0., 0.],\n",
       "       [0., 2., 0., ..., 0., 0., 0.],\n",
       "       ...,\n",
       "       [0., 0., 0., ..., 0., 0., 0.],\n",
       "       [0., 1., 0., ..., 0., 0., 1.],\n",
       "       [0., 1., 0., ..., 1., 1., 0.]])"
      ]
     },
     "execution_count": 167,
     "metadata": {},
     "output_type": "execute_result"
    }
   ],
   "source": [
    "c"
   ]
  },
  {
   "cell_type": "code",
   "execution_count": 168,
   "metadata": {},
   "outputs": [
    {
     "data": {
      "text/plain": [
       "{'also': 1,\n",
       " 'as': 1,\n",
       " 'be': 1,\n",
       " 'binary': 1,\n",
       " 'bytes': 2,\n",
       " 'can': 1,\n",
       " 'cat': 1,\n",
       " 'catenates': 1,\n",
       " 'concatenate': 2,\n",
       " 'files': 1,\n",
       " 'it': 2,\n",
       " 'just': 1,\n",
       " 'of': 2,\n",
       " 'sequence': 1,\n",
       " 'simply': 1,\n",
       " 'streams': 1,\n",
       " 'to': 1,\n",
       " 'used': 1,\n",
       " 'where': 1,\n",
       " 'will': 1}"
      ]
     },
     "execution_count": 168,
     "metadata": {},
     "output_type": "execute_result"
    }
   ],
   "source": [
    "from scipy.spatial.distance import cosine\n",
    "words_lines[1]"
   ]
  },
  {
   "cell_type": "code",
   "execution_count": 169,
   "metadata": {},
   "outputs": [
    {
     "data": {
      "text/plain": [
       "array([0., 1., 0., 0., 0., 0., 0., 0., 0., 0., 0., 0., 0., 1., 1., 1., 1.,\n",
       "       1., 2., 2., 2., 1., 1., 1., 1., 2., 1., 1., 1., 1., 1., 1., 0., 0.,\n",
       "       0., 0., 0., 0., 0., 0., 0., 0., 0., 0., 0., 0., 0., 0., 0., 0., 0.,\n",
       "       0., 0., 0., 0., 0., 0., 0., 0., 0., 0., 0., 0., 0., 0., 0., 0., 0.,\n",
       "       0., 0., 0., 0., 0., 0., 0., 0., 0., 0., 0., 0., 0., 0., 0., 0., 0.,\n",
       "       0., 0., 0., 0., 0., 0., 0., 0., 0., 0., 0., 0., 0., 0., 0., 0., 0.,\n",
       "       0., 0., 0., 0., 0., 0., 0., 0., 0., 0., 0., 0., 0., 0., 0., 0., 0.,\n",
       "       0., 0., 0., 0., 0., 0., 0., 0., 0., 0., 0., 0., 0., 0., 0., 0., 0.,\n",
       "       0., 0., 0., 0., 0., 0., 0., 0., 0., 0., 0., 0., 0., 0., 0., 0., 0.,\n",
       "       0., 0., 0., 0., 0., 0., 0., 0., 0., 0., 0., 0., 0., 0., 0., 0., 0.,\n",
       "       0., 0., 0., 0., 0., 0., 0., 0., 0., 0., 0., 0., 0., 0., 0., 0., 0.,\n",
       "       0., 0., 0., 0., 0., 0., 0., 0., 0., 0., 0., 0., 0., 0., 0., 0., 0.,\n",
       "       0., 0., 0., 0., 0., 0., 0., 0., 0., 0., 0., 0., 0., 0., 0., 0., 0.,\n",
       "       0., 0., 0., 0., 0., 0., 0., 0., 0., 0., 0., 0., 0., 0., 0., 0., 0.,\n",
       "       0., 0., 0., 0., 0., 0., 0., 0., 0., 0., 0., 0., 0., 0., 0., 0.])"
      ]
     },
     "execution_count": 169,
     "metadata": {},
     "output_type": "execute_result"
    }
   ],
   "source": [
    "c[1,]"
   ]
  },
  {
   "cell_type": "code",
   "execution_count": 170,
   "metadata": {},
   "outputs": [
    {
     "data": {
      "text/plain": [
       "0.7221405348868943"
      ]
     },
     "execution_count": 170,
     "metadata": {},
     "output_type": "execute_result"
    }
   ],
   "source": [
    "x"
   ]
  },
  {
   "cell_type": "code",
   "execution_count": 171,
   "metadata": {},
   "outputs": [],
   "source": [
    "cosine_dict = dict()\n",
    "for i in range (0,len(words_lines)):\n",
    "    x = cosine (c[0], c[i])\n",
    "    cosine_dict[i] = x\n",
    "    \n",
    "    "
   ]
  },
  {
   "cell_type": "code",
   "execution_count": 172,
   "metadata": {},
   "outputs": [
    {
     "data": {
      "text/plain": [
       "{0: 0.0,\n",
       " 1: 0.9527544408738466,\n",
       " 2: 0.8644738145642124,\n",
       " 3: 0.8951715163278082,\n",
       " 4: 0.7770887149698589,\n",
       " 5: 0.9402385695332803,\n",
       " 6: 0.7327387580875756,\n",
       " 7: 0.9258750683338899,\n",
       " 8: 0.8842724875284311,\n",
       " 9: 0.9055088817476932,\n",
       " 10: 0.8328165362273942,\n",
       " 11: 0.8804771390665607,\n",
       " 12: 0.8396432548525454,\n",
       " 13: 0.8703592552895671,\n",
       " 14: 0.8740118423302576,\n",
       " 15: 0.9442721787424647,\n",
       " 16: 0.8406361854220809,\n",
       " 17: 0.956644501523794,\n",
       " 18: 0.9442721787424647,\n",
       " 19: 0.8885443574849294,\n",
       " 20: 0.8427572744917122,\n",
       " 21: 0.8250364469440588}"
      ]
     },
     "execution_count": 172,
     "metadata": {},
     "output_type": "execute_result"
    }
   ],
   "source": [
    "cosine_dict"
   ]
  },
  {
   "cell_type": "code",
   "execution_count": 174,
   "metadata": {},
   "outputs": [],
   "source": [
    "arr = []\n",
    "\n",
    "for x in range(1,22):\n",
    "    arr.append(cosine_dict[x])"
   ]
  },
  {
   "cell_type": "code",
   "execution_count": 175,
   "metadata": {},
   "outputs": [],
   "source": [
    "arr.sort()"
   ]
  },
  {
   "cell_type": "code",
   "execution_count": 176,
   "metadata": {},
   "outputs": [
    {
     "data": {
      "text/plain": [
       "[0.7327387580875756,\n",
       " 0.7770887149698589,\n",
       " 0.8250364469440588,\n",
       " 0.8328165362273942,\n",
       " 0.8396432548525454,\n",
       " 0.8406361854220809,\n",
       " 0.8427572744917122,\n",
       " 0.8644738145642124,\n",
       " 0.8703592552895671,\n",
       " 0.8740118423302576,\n",
       " 0.8804771390665607,\n",
       " 0.8842724875284311,\n",
       " 0.8885443574849294,\n",
       " 0.8951715163278082,\n",
       " 0.9055088817476932,\n",
       " 0.9258750683338899,\n",
       " 0.9402385695332803,\n",
       " 0.9442721787424647,\n",
       " 0.9442721787424647,\n",
       " 0.9527544408738466,\n",
       " 0.956644501523794]"
      ]
     },
     "execution_count": 176,
     "metadata": {},
     "output_type": "execute_result"
    }
   ],
   "source": [
    "arr"
   ]
  },
  {
   "cell_type": "markdown",
   "metadata": {},
   "source": [
    " # ответ 4 6"
   ]
  },
  {
   "cell_type": "markdown",
   "metadata": {},
   "source": [
    "# решение от авторов курса \n",
    "https://github.com/Coursera-machine-learning-data-analysis/Refresher-course-1/blob/master/week2-lesson4/w2l4.ipynb\n",
    "\n"
   ]
  },
  {
   "cell_type": "code",
   "execution_count": 131,
   "metadata": {},
   "outputs": [],
   "source": [
    "with open('sentences.txt') as infile:\n",
    "    text = infile.readlines()"
   ]
  },
  {
   "cell_type": "code",
   "execution_count": 132,
   "metadata": {},
   "outputs": [
    {
     "data": {
      "text/plain": [
       "['In comparison to dogs, cats have not undergone major changes during the domestication process.\\n',\n",
       " 'As cat simply catenates streams of bytes, it can be also used to concatenate binary files, where it will just concatenate sequence of bytes.\\n',\n",
       " 'A common interactive use of cat for a single file is to output the content of a file to standard output.\\n',\n",
       " 'Cats can hear sounds too faint or too high in frequency for human ears, such as those made by mice and other small animals.\\n',\n",
       " 'In one, people deliberately tamed cats in a process of artificial selection, as they were useful predators of vermin.\\n',\n",
       " 'The domesticated cat and its closest wild ancestor are both diploid organisms that possess 38 chromosomes and roughly 20,000 genes.\\n',\n",
       " 'Domestic cats are similar in size to the other members of the genus Felis, typically weighing between 4 and 5 kg (8.8 and 11.0 lb).\\n',\n",
       " 'However, if the output is piped or redirected, cat is unnecessary.\\n',\n",
       " 'cat with one named file is safer where human error is a concern - one wrong use of the default redirection symbol \">\" instead of \"<\" (often adjacent on keyboards) may permanently delete the file you were just needing to read.\\n',\n",
       " 'In terms of legibility, a sequence of commands starting with cat and connected by pipes has a clear left-to-right flow of information.\\n',\n",
       " 'Cat command is one of the basic commands that you learned when you started in the Unix / Linux world.\\n',\n",
       " 'Using cat command, the lines received from stdin can be redirected to a new file using redirection symbols.\\n',\n",
       " 'When you type simply cat command without any arguments, it just receives the stdin content and displays it in the stdout.\\n',\n",
       " 'Leopard was released on October 26, 2007 as the successor of Tiger (version 10.4), and is available in two editions.\\n',\n",
       " 'According to Apple, Leopard contains over 300 changes and enhancements over its predecessor, Mac OS X Tiger.\\n',\n",
       " 'As of Mid 2010, some Apple computers have firmware factory installed which will no longer allow installation of Mac OS X Leopard.\\n',\n",
       " 'Since Apple moved to using Intel processors in their computers, the OSx86 community has developed and now also allows Mac OS X Tiger and later releases to be installed on non-Apple x86-based computers.\\n',\n",
       " \"OS X Mountain Lion was released on July 25, 2012 for purchase and download through Apple's Mac App Store, as part of a switch to releasing OS X versions online and every year.\\n\",\n",
       " 'Apple has released a small patch for the three most recent versions of Safari running on OS X Yosemite, Mavericks, and Mountain Lion.\\n',\n",
       " 'The Mountain Lion release marks the second time Apple has offered an incremental upgrade, rather than releasing a new cat entirely.\\n',\n",
       " \"Mac OS X Mountain Lion installs in place, so you won't need to create a separate disk or run the installation off an external drive.\\n\",\n",
       " \"The fifth major update to Mac OS X, Leopard, contains such a mountain of features - more than 300 by Apple's count.\"]"
      ]
     },
     "execution_count": 132,
     "metadata": {},
     "output_type": "execute_result"
    }
   ],
   "source": [
    "text"
   ]
  },
  {
   "cell_type": "code",
   "execution_count": 135,
   "metadata": {},
   "outputs": [
    {
     "name": "stdout",
     "output_type": "stream",
     "text": [
      "In comparison to dogs, cats have not undergone major changes during the domestication process.\n",
      "\n",
      "in comparison to dogs, cats have not undergone major changes during the domestication process.\n",
      "\n",
      "['in', 'comparison', 'to', 'dogs', '', 'cats', 'have', 'not', 'undergone', 'major', 'changes', 'during', 'the', 'domestication', 'process', '', '']\n"
     ]
    }
   ],
   "source": [
    "import re\n",
    "print (text[0])\n",
    "print (text[0].lower())\n",
    "print( re.split('[^a-z]', text[0].lower()))"
   ]
  },
  {
   "cell_type": "code",
   "execution_count": 137,
   "metadata": {},
   "outputs": [
    {
     "data": {
      "text/plain": [
       "['in',\n",
       " 'comparison',\n",
       " 'to',\n",
       " 'dogs',\n",
       " 'cats',\n",
       " 'have',\n",
       " 'not',\n",
       " 'undergone',\n",
       " 'major',\n",
       " 'changes',\n",
       " 'during',\n",
       " 'the',\n",
       " 'domestication',\n",
       " 'process']"
      ]
     },
     "execution_count": 137,
     "metadata": {},
     "output_type": "execute_result"
    }
   ],
   "source": [
    "[word for word in re.split('[^a-z]', text[0].lower()) if word]"
   ]
  },
  {
   "cell_type": "code",
   "execution_count": 178,
   "metadata": {},
   "outputs": [],
   "source": [
    "def tokenize(sent):\n",
    "    return [word for word in re.split('[^a-z]', sent.lower()) if word]"
   ]
  },
  {
   "cell_type": "code",
   "execution_count": 179,
   "metadata": {},
   "outputs": [
    {
     "name": "stdout",
     "output_type": "stream",
     "text": [
      "<map object at 0x10a548e10>\n"
     ]
    }
   ],
   "source": [
    "token_text = map(tokenize, text)\n",
    "print (token_text)"
   ]
  },
  {
   "cell_type": "code",
   "execution_count": 153,
   "metadata": {},
   "outputs": [
    {
     "data": {
      "text/plain": [
       "254"
      ]
     },
     "execution_count": 153,
     "metadata": {},
     "output_type": "execute_result"
    }
   ],
   "source": [
    "len(set([word for sent in token_text for word in sent]))"
   ]
  },
  {
   "cell_type": "code",
   "execution_count": 157,
   "metadata": {},
   "outputs": [
    {
     "data": {
      "text/plain": [
       "[(0, 'single'),\n",
       " (1, 'running'),\n",
       " (2, 'with'),\n",
       " (3, 'safer'),\n",
       " (4, 'roughly'),\n",
       " (5, 'than'),\n",
       " (6, 'were'),\n",
       " (7, 'use'),\n",
       " (8, 'cats'),\n",
       " (9, 'using'),\n",
       " (10, 'every'),\n",
       " (11, 'update'),\n",
       " (12, 'instead'),\n",
       " (13, 'commands'),\n",
       " (14, 'three'),\n",
       " (15, 'moved'),\n",
       " (16, 'installs'),\n",
       " (17, 'stdin'),\n",
       " (18, 'allow'),\n",
       " (19, 'symbol'),\n",
       " (20, 'starting'),\n",
       " (21, 'standard'),\n",
       " (22, 'concern'),\n",
       " (23, 'keyboards'),\n",
       " (24, 'according'),\n",
       " (25, 'people'),\n",
       " (26, 'won'),\n",
       " (27, 'typically'),\n",
       " (28, 'organisms'),\n",
       " (29, 'during'),\n",
       " (30, 'interactive'),\n",
       " (31, 'you'),\n",
       " (32, 'will'),\n",
       " (33, 'domestic'),\n",
       " (34, 'firmware'),\n",
       " (35, 'create'),\n",
       " (36, 'intel'),\n",
       " (37, 'terms'),\n",
       " (38, 'basic'),\n",
       " (39, 'rather'),\n",
       " (40, 'factory'),\n",
       " (41, 'online'),\n",
       " (42, 'no'),\n",
       " (43, 'release'),\n",
       " (44, 'where'),\n",
       " (45, 'may'),\n",
       " (46, 'os'),\n",
       " (47, 'new'),\n",
       " (48, 'human'),\n",
       " (49, 'similar'),\n",
       " (50, 'safari'),\n",
       " (51, 'has'),\n",
       " (52, 'domestication'),\n",
       " (53, 'kg'),\n",
       " (54, 'over'),\n",
       " (55, 'vermin'),\n",
       " (56, 'arguments'),\n",
       " (57, 'predecessor'),\n",
       " (58, 'connected'),\n",
       " (59, 'type'),\n",
       " (60, 'is'),\n",
       " (61, 'july'),\n",
       " (62, 'felis'),\n",
       " (63, 'they'),\n",
       " (64, 'command'),\n",
       " (65, 'need'),\n",
       " (66, 'its'),\n",
       " (67, 'redirection'),\n",
       " (68, 'permanently'),\n",
       " (69, 'delete'),\n",
       " (70, 'small'),\n",
       " (71, 'lines'),\n",
       " (72, 'the'),\n",
       " (73, 'now'),\n",
       " (74, 'high'),\n",
       " (75, 'computers'),\n",
       " (76, 'non'),\n",
       " (77, 'wrong'),\n",
       " (78, 'often'),\n",
       " (79, 'longer'),\n",
       " (80, 'available'),\n",
       " (81, 'genus'),\n",
       " (82, 'later'),\n",
       " (83, 'started'),\n",
       " (84, 'genes'),\n",
       " (85, 'concatenate'),\n",
       " (86, 'sequence'),\n",
       " (87, 'to'),\n",
       " (88, 'however'),\n",
       " (89, 'version'),\n",
       " (90, 'features'),\n",
       " (91, 'in'),\n",
       " (92, 'comparison'),\n",
       " (93, 'both'),\n",
       " (94, 'process'),\n",
       " (95, 'unix'),\n",
       " (96, 'versions'),\n",
       " (97, 'drive'),\n",
       " (98, 'dogs'),\n",
       " (99, 'when'),\n",
       " (100, 'sounds'),\n",
       " (101, 'other'),\n",
       " (102, 'community'),\n",
       " (103, 'size'),\n",
       " (104, 'displays'),\n",
       " (105, 'so'),\n",
       " (106, 'store'),\n",
       " (107, 'cat'),\n",
       " (108, 'artificial'),\n",
       " (109, 'marks'),\n",
       " (110, 'needing'),\n",
       " (111, 'such'),\n",
       " (112, 'on'),\n",
       " (113, 'receives'),\n",
       " (114, 'weighing'),\n",
       " (115, 'it'),\n",
       " (116, 'faint'),\n",
       " (117, 'simply'),\n",
       " (118, 'ancestor'),\n",
       " (119, 'frequency'),\n",
       " (120, 'count'),\n",
       " (121, 'have'),\n",
       " (122, 'linux'),\n",
       " (123, 'was'),\n",
       " (124, 'wild'),\n",
       " (125, 'members'),\n",
       " (126, 'one'),\n",
       " (127, 'tamed'),\n",
       " (128, 'editions'),\n",
       " (129, 'can'),\n",
       " (130, 'just'),\n",
       " (131, 'possess'),\n",
       " (132, 'made'),\n",
       " (133, 'year'),\n",
       " (134, 'of'),\n",
       " (135, 'a'),\n",
       " (136, 'from'),\n",
       " (137, 'chromosomes'),\n",
       " (138, 'without'),\n",
       " (139, 'hear'),\n",
       " (140, 'used'),\n",
       " (141, 'contains'),\n",
       " (142, 'adjacent'),\n",
       " (143, 'enhancements'),\n",
       " (144, 'most'),\n",
       " (145, 'catenates'),\n",
       " (146, 'flow'),\n",
       " (147, 'disk'),\n",
       " (148, 'which'),\n",
       " (149, 'purchase'),\n",
       " (150, 'also'),\n",
       " (151, 'external'),\n",
       " (152, 'piped'),\n",
       " (153, 'clear'),\n",
       " (154, 'run'),\n",
       " (155, 'any'),\n",
       " (156, 's'),\n",
       " (157, 'tiger'),\n",
       " (158, 'closest'),\n",
       " (159, 'pipes'),\n",
       " (160, 'legibility'),\n",
       " (161, 'common'),\n",
       " (162, 'not'),\n",
       " (163, 'symbols'),\n",
       " (164, 'apple'),\n",
       " (165, 'off'),\n",
       " (166, 'separate'),\n",
       " (167, 'deliberately'),\n",
       " (168, 'october'),\n",
       " (169, 'successor'),\n",
       " (170, 'those'),\n",
       " (171, 'mac'),\n",
       " (172, 'ears'),\n",
       " (173, 'be'),\n",
       " (174, 'redirected'),\n",
       " (175, 'named'),\n",
       " (176, 'diploid'),\n",
       " (177, 'as'),\n",
       " (178, 'more'),\n",
       " (179, 'changes'),\n",
       " (180, 'error'),\n",
       " (181, 'output'),\n",
       " (182, 'animals'),\n",
       " (183, 'osx'),\n",
       " (184, 'releases'),\n",
       " (185, 'time'),\n",
       " (186, 'since'),\n",
       " (187, 'second'),\n",
       " (188, 'content'),\n",
       " (189, 'default'),\n",
       " (190, 'or'),\n",
       " (191, 'too'),\n",
       " (192, 'installed'),\n",
       " (193, 'streams'),\n",
       " (194, 'right'),\n",
       " (195, 'place'),\n",
       " (196, 'mice'),\n",
       " (197, 'leopard'),\n",
       " (198, 'some'),\n",
       " (199, 'read'),\n",
       " (200, 'part'),\n",
       " (201, 'recent'),\n",
       " (202, 'lb'),\n",
       " (203, 'based'),\n",
       " (204, 'entirely'),\n",
       " (205, 'fifth'),\n",
       " (206, 'installation'),\n",
       " (207, 'bytes'),\n",
       " (208, 'file'),\n",
       " (209, 'selection'),\n",
       " (210, 'allows'),\n",
       " (211, 'and'),\n",
       " (212, 'for'),\n",
       " (213, 'mid'),\n",
       " (214, 't'),\n",
       " (215, 'binary'),\n",
       " (216, 'domesticated'),\n",
       " (217, 'their'),\n",
       " (218, 'patch'),\n",
       " (219, 'predators'),\n",
       " (220, 'released'),\n",
       " (221, 'that'),\n",
       " (222, 'world'),\n",
       " (223, 'switch'),\n",
       " (224, 'stdout'),\n",
       " (225, 'offered'),\n",
       " (226, 'major'),\n",
       " (227, 'lion'),\n",
       " (228, 'mavericks'),\n",
       " (229, 'received'),\n",
       " (230, 'between'),\n",
       " (231, 'if'),\n",
       " (232, 'yosemite'),\n",
       " (233, 'incremental'),\n",
       " (234, 'useful'),\n",
       " (235, 'two'),\n",
       " (236, 'download'),\n",
       " (237, 'x'),\n",
       " (238, 'through'),\n",
       " (239, 'releasing'),\n",
       " (240, 'left'),\n",
       " (241, 'developed'),\n",
       " (242, 'learned'),\n",
       " (243, 'processors'),\n",
       " (244, 'undergone'),\n",
       " (245, 'mountain'),\n",
       " (246, 'upgrade'),\n",
       " (247, 'an'),\n",
       " (248, 'are'),\n",
       " (249, 'by'),\n",
       " (250, 'files'),\n",
       " (251, 'unnecessary'),\n",
       " (252, 'information'),\n",
       " (253, 'app')]"
      ]
     },
     "execution_count": 157,
     "metadata": {},
     "output_type": "execute_result"
    }
   ],
   "source": [
    "list(enumerate(set([word for sent in token_text for word in sent])))"
   ]
  },
  {
   "cell_type": "code",
   "execution_count": 180,
   "metadata": {},
   "outputs": [
    {
     "data": {
      "text/plain": [
       "{'a': 135,\n",
       " 'according': 24,\n",
       " 'adjacent': 142,\n",
       " 'allow': 18,\n",
       " 'allows': 210,\n",
       " 'also': 150,\n",
       " 'an': 247,\n",
       " 'ancestor': 118,\n",
       " 'and': 211,\n",
       " 'animals': 182,\n",
       " 'any': 155,\n",
       " 'app': 253,\n",
       " 'apple': 164,\n",
       " 'are': 248,\n",
       " 'arguments': 56,\n",
       " 'artificial': 108,\n",
       " 'as': 177,\n",
       " 'available': 80,\n",
       " 'based': 203,\n",
       " 'basic': 38,\n",
       " 'be': 173,\n",
       " 'between': 230,\n",
       " 'binary': 215,\n",
       " 'both': 93,\n",
       " 'by': 249,\n",
       " 'bytes': 207,\n",
       " 'can': 129,\n",
       " 'cat': 107,\n",
       " 'catenates': 145,\n",
       " 'cats': 8,\n",
       " 'changes': 179,\n",
       " 'chromosomes': 137,\n",
       " 'clear': 153,\n",
       " 'closest': 158,\n",
       " 'command': 64,\n",
       " 'commands': 13,\n",
       " 'common': 161,\n",
       " 'community': 102,\n",
       " 'comparison': 92,\n",
       " 'computers': 75,\n",
       " 'concatenate': 85,\n",
       " 'concern': 22,\n",
       " 'connected': 58,\n",
       " 'contains': 141,\n",
       " 'content': 188,\n",
       " 'count': 120,\n",
       " 'create': 35,\n",
       " 'default': 189,\n",
       " 'delete': 69,\n",
       " 'deliberately': 167,\n",
       " 'developed': 241,\n",
       " 'diploid': 176,\n",
       " 'disk': 147,\n",
       " 'displays': 104,\n",
       " 'dogs': 98,\n",
       " 'domestic': 33,\n",
       " 'domesticated': 216,\n",
       " 'domestication': 52,\n",
       " 'download': 236,\n",
       " 'drive': 97,\n",
       " 'during': 29,\n",
       " 'ears': 172,\n",
       " 'editions': 128,\n",
       " 'enhancements': 143,\n",
       " 'entirely': 204,\n",
       " 'error': 180,\n",
       " 'every': 10,\n",
       " 'external': 151,\n",
       " 'factory': 40,\n",
       " 'faint': 116,\n",
       " 'features': 90,\n",
       " 'felis': 62,\n",
       " 'fifth': 205,\n",
       " 'file': 208,\n",
       " 'files': 250,\n",
       " 'firmware': 34,\n",
       " 'flow': 146,\n",
       " 'for': 212,\n",
       " 'frequency': 119,\n",
       " 'from': 136,\n",
       " 'genes': 84,\n",
       " 'genus': 81,\n",
       " 'has': 51,\n",
       " 'have': 121,\n",
       " 'hear': 139,\n",
       " 'high': 74,\n",
       " 'however': 88,\n",
       " 'human': 48,\n",
       " 'if': 231,\n",
       " 'in': 91,\n",
       " 'incremental': 233,\n",
       " 'information': 252,\n",
       " 'installation': 206,\n",
       " 'installed': 192,\n",
       " 'installs': 16,\n",
       " 'instead': 12,\n",
       " 'intel': 36,\n",
       " 'interactive': 30,\n",
       " 'is': 60,\n",
       " 'it': 115,\n",
       " 'its': 66,\n",
       " 'july': 61,\n",
       " 'just': 130,\n",
       " 'keyboards': 23,\n",
       " 'kg': 53,\n",
       " 'later': 82,\n",
       " 'lb': 202,\n",
       " 'learned': 242,\n",
       " 'left': 240,\n",
       " 'legibility': 160,\n",
       " 'leopard': 197,\n",
       " 'lines': 71,\n",
       " 'linux': 122,\n",
       " 'lion': 227,\n",
       " 'longer': 79,\n",
       " 'mac': 171,\n",
       " 'made': 132,\n",
       " 'major': 226,\n",
       " 'marks': 109,\n",
       " 'mavericks': 228,\n",
       " 'may': 45,\n",
       " 'members': 125,\n",
       " 'mice': 196,\n",
       " 'mid': 213,\n",
       " 'more': 178,\n",
       " 'most': 144,\n",
       " 'mountain': 245,\n",
       " 'moved': 15,\n",
       " 'named': 175,\n",
       " 'need': 65,\n",
       " 'needing': 110,\n",
       " 'new': 47,\n",
       " 'no': 42,\n",
       " 'non': 76,\n",
       " 'not': 162,\n",
       " 'now': 73,\n",
       " 'october': 168,\n",
       " 'of': 134,\n",
       " 'off': 165,\n",
       " 'offered': 225,\n",
       " 'often': 78,\n",
       " 'on': 112,\n",
       " 'one': 126,\n",
       " 'online': 41,\n",
       " 'or': 190,\n",
       " 'organisms': 28,\n",
       " 'os': 46,\n",
       " 'osx': 183,\n",
       " 'other': 101,\n",
       " 'output': 181,\n",
       " 'over': 54,\n",
       " 'part': 200,\n",
       " 'patch': 218,\n",
       " 'people': 25,\n",
       " 'permanently': 68,\n",
       " 'piped': 152,\n",
       " 'pipes': 159,\n",
       " 'place': 195,\n",
       " 'possess': 131,\n",
       " 'predators': 219,\n",
       " 'predecessor': 57,\n",
       " 'process': 94,\n",
       " 'processors': 243,\n",
       " 'purchase': 149,\n",
       " 'rather': 39,\n",
       " 'read': 199,\n",
       " 'received': 229,\n",
       " 'receives': 113,\n",
       " 'recent': 201,\n",
       " 'redirected': 174,\n",
       " 'redirection': 67,\n",
       " 'release': 43,\n",
       " 'released': 220,\n",
       " 'releases': 184,\n",
       " 'releasing': 239,\n",
       " 'right': 194,\n",
       " 'roughly': 4,\n",
       " 'run': 154,\n",
       " 'running': 1,\n",
       " 's': 156,\n",
       " 'safari': 50,\n",
       " 'safer': 3,\n",
       " 'second': 187,\n",
       " 'selection': 209,\n",
       " 'separate': 166,\n",
       " 'sequence': 86,\n",
       " 'similar': 49,\n",
       " 'simply': 117,\n",
       " 'since': 186,\n",
       " 'single': 0,\n",
       " 'size': 103,\n",
       " 'small': 70,\n",
       " 'so': 105,\n",
       " 'some': 198,\n",
       " 'sounds': 100,\n",
       " 'standard': 21,\n",
       " 'started': 83,\n",
       " 'starting': 20,\n",
       " 'stdin': 17,\n",
       " 'stdout': 224,\n",
       " 'store': 106,\n",
       " 'streams': 193,\n",
       " 'successor': 169,\n",
       " 'such': 111,\n",
       " 'switch': 223,\n",
       " 'symbol': 19,\n",
       " 'symbols': 163,\n",
       " 't': 214,\n",
       " 'tamed': 127,\n",
       " 'terms': 37,\n",
       " 'than': 5,\n",
       " 'that': 221,\n",
       " 'the': 72,\n",
       " 'their': 217,\n",
       " 'they': 63,\n",
       " 'those': 170,\n",
       " 'three': 14,\n",
       " 'through': 238,\n",
       " 'tiger': 157,\n",
       " 'time': 185,\n",
       " 'to': 87,\n",
       " 'too': 191,\n",
       " 'two': 235,\n",
       " 'type': 59,\n",
       " 'typically': 27,\n",
       " 'undergone': 244,\n",
       " 'unix': 95,\n",
       " 'unnecessary': 251,\n",
       " 'update': 11,\n",
       " 'upgrade': 246,\n",
       " 'use': 7,\n",
       " 'used': 140,\n",
       " 'useful': 234,\n",
       " 'using': 9,\n",
       " 'vermin': 55,\n",
       " 'version': 89,\n",
       " 'versions': 96,\n",
       " 'was': 123,\n",
       " 'weighing': 114,\n",
       " 'were': 6,\n",
       " 'when': 99,\n",
       " 'where': 44,\n",
       " 'which': 148,\n",
       " 'wild': 124,\n",
       " 'will': 32,\n",
       " 'with': 2,\n",
       " 'without': 138,\n",
       " 'won': 26,\n",
       " 'world': 222,\n",
       " 'wrong': 77,\n",
       " 'x': 237,\n",
       " 'year': 133,\n",
       " 'yosemite': 232,\n",
       " 'you': 31}"
      ]
     },
     "execution_count": 180,
     "metadata": {},
     "output_type": "execute_result"
    }
   ],
   "source": [
    "D = {word:i for i, word in enumerate(set([word for sent in token_text for word in sent]))}\n",
    "D"
   ]
  },
  {
   "cell_type": "code",
   "execution_count": 181,
   "metadata": {},
   "outputs": [
    {
     "ename": "TypeError",
     "evalue": "object of type 'map' has no len()",
     "output_type": "error",
     "traceback": [
      "\u001b[0;31m---------------------------------------------------------------------------\u001b[0m",
      "\u001b[0;31mTypeError\u001b[0m                                 Traceback (most recent call last)",
      "\u001b[0;32m<ipython-input-181-60f794c36d25>\u001b[0m in \u001b[0;36m<module>\u001b[0;34m()\u001b[0m\n\u001b[0;32m----> 1\u001b[0;31m \u001b[0mM\u001b[0m \u001b[0;34m=\u001b[0m \u001b[0mnp\u001b[0m\u001b[0;34m.\u001b[0m\u001b[0mzeros\u001b[0m\u001b[0;34m(\u001b[0m\u001b[0;34m(\u001b[0m\u001b[0mlen\u001b[0m\u001b[0;34m(\u001b[0m\u001b[0mtoken_text\u001b[0m\u001b[0;34m)\u001b[0m\u001b[0;34m,\u001b[0m \u001b[0mlen\u001b[0m\u001b[0;34m(\u001b[0m\u001b[0mD\u001b[0m\u001b[0;34m)\u001b[0m\u001b[0;34m)\u001b[0m\u001b[0;34m)\u001b[0m\u001b[0;34m\u001b[0m\u001b[0m\n\u001b[0m\u001b[1;32m      2\u001b[0m \u001b[0mM\u001b[0m\u001b[0;34m\u001b[0m\u001b[0m\n",
      "\u001b[0;31mTypeError\u001b[0m: object of type 'map' has no len()"
     ]
    }
   ],
   "source": [
    "M = np.zeros((len(token_text), len(D)))\n",
    "M"
   ]
  },
  {
   "cell_type": "code",
   "execution_count": 184,
   "metadata": {},
   "outputs": [
    {
     "data": {
      "text/plain": [
       "map"
      ]
     },
     "execution_count": 184,
     "metadata": {},
     "output_type": "execute_result"
    }
   ],
   "source": [
    "M.shape"
   ]
  },
  {
   "cell_type": "code",
   "execution_count": null,
   "metadata": {},
   "outputs": [],
   "source": [
    "i = 0\n",
    "for sent in token_text:\n",
    "    for word in sent:\n",
    "        M[i, D[word]] += 1\n",
    "    i += 1"
   ]
  },
  {
   "cell_type": "code",
   "execution_count": null,
   "metadata": {},
   "outputs": [],
   "source": [
    "M"
   ]
  },
  {
   "cell_type": "code",
   "execution_count": null,
   "metadata": {},
   "outputs": [],
   "source": [
    "M[0]"
   ]
  },
  {
   "cell_type": "code",
   "execution_count": null,
   "metadata": {},
   "outputs": [],
   "source": [
    "sum([number for sent in M for number in sent])"
   ]
  },
  {
   "cell_type": "code",
   "execution_count": null,
   "metadata": {},
   "outputs": [],
   "source": [
    "len([word for sent in token_text for word in sent])"
   ]
  },
  {
   "cell_type": "code",
   "execution_count": null,
   "metadata": {},
   "outputs": [],
   "source": []
  },
  {
   "cell_type": "code",
   "execution_count": null,
   "metadata": {},
   "outputs": [],
   "source": []
  },
  {
   "cell_type": "code",
   "execution_count": null,
   "metadata": {},
   "outputs": [],
   "source": []
  },
  {
   "cell_type": "code",
   "execution_count": null,
   "metadata": {},
   "outputs": [],
   "source": []
  },
  {
   "cell_type": "markdown",
   "metadata": {},
   "source": [
    "#### Задача 2: аппроксимация функции"
   ]
  },
  {
   "cell_type": "markdown",
   "metadata": {},
   "source": [
    "https://github.com/Coursera-machine-learning-data-analysis/1/blob/master/1.ipynb\n",
    "\n",
    "https://github.com/Coursera-machine-learning-data-analysis/Refresher-course-1/blob/master/week2-lesson4/w2l4.ipynb\n"
   ]
  },
  {
   "cell_type": "code",
   "execution_count": 209,
   "metadata": {},
   "outputs": [],
   "source": [
    "def g(x):\n",
    "    print (type(x))\n",
    "    print (x)\n",
    "    #return np.sin(x)\n",
    "    \n",
    "    return np.sin(x / 5.0) * np.exp(x / 10.0) + 5 * np.exp(-x / 2.0)"
   ]
  },
  {
   "cell_type": "code",
   "execution_count": 199,
   "metadata": {},
   "outputs": [],
   "source": [
    "import matplotlib.pyplot as plt\n",
    "%matplotlib inline"
   ]
  },
  {
   "cell_type": "code",
   "execution_count": 216,
   "metadata": {},
   "outputs": [
    {
     "name": "stdout",
     "output_type": "stream",
     "text": [
      "<class 'numpy.ndarray'>\n",
      "[ 1.    1.01  1.02 ... 14.97 14.98 14.99]\n"
     ]
    },
    {
     "data": {
      "text/plain": [
       "[<matplotlib.lines.Line2D at 0x111366c50>]"
      ]
     },
     "execution_count": 216,
     "metadata": {},
     "output_type": "execute_result"
    },
    {
     "data": {
      "image/png": "[encoded data removed]",
      "text/plain": [
       "<matplotlib.figure.Figure at 0x111311c88>"
      ]
     },
     "metadata": {},
     "output_type": "display_data"
    }
   ],
   "source": [
    "\n",
    "x = np.arange(1, 15, 0.01)\n",
    "\n",
    "plt.plot(x, g(x))\n"
   ]
  },
  {
   "cell_type": "code",
   "execution_count": 223,
   "metadata": {},
   "outputs": [
    {
     "name": "stdout",
     "output_type": "stream",
     "text": [
      "<class 'numpy.ndarray'>\n",
      "[ 1 15]\n",
      "<class 'numpy.ndarray'>\n",
      "[ 1.    1.01  1.02 ... 14.97 14.98 14.99]\n"
     ]
    },
    {
     "data": {
      "text/plain": [
       "<matplotlib.legend.Legend at 0x111607c18>"
      ]
     },
     "execution_count": 223,
     "metadata": {},
     "output_type": "execute_result"
    },
    {
     "data": {
      "image/png": "[encoded data removed]",
      "text/plain": [
       "<matplotlib.figure.Figure at 0x111494390>"
      ]
     },
     "metadata": {},
     "output_type": "display_data"
    }
   ],
   "source": [
    "x_list = np.array([1, 15])\n",
    "\n",
    "A = np.vander(x_list)[:,::-1]\n",
    "A\n",
    "B = g(x_list)\n",
    "B\n",
    "\n",
    "w = np.linalg.solve(A, B)\n",
    "w\n",
    "\n",
    "x = np.arange(1, 15, 0.01)\n",
    "\n",
    "def h(x, w):\n",
    "    return w[0] + w[1]*x\n",
    "\n",
    "plt.plot(x, g(x), label='True')\n",
    "plt.plot(x, h(x, w), label='Poly')\n",
    "\n",
    "plt.legend(loc=\"best\")"
   ]
  },
  {
   "cell_type": "code",
   "execution_count": 225,
   "metadata": {},
   "outputs": [
    {
     "name": "stdout",
     "output_type": "stream",
     "text": [
      "<class 'numpy.ndarray'>\n",
      "[ 1  8 15]\n",
      "<class 'numpy.ndarray'>\n",
      "[ 1.    1.01  1.02 ... 14.97 14.98 14.99]\n"
     ]
    },
    {
     "data": {
      "text/plain": [
       "[<matplotlib.lines.Line2D at 0x111611160>]"
      ]
     },
     "execution_count": 225,
     "metadata": {},
     "output_type": "execute_result"
    },
    {
     "data": {
      "image/png": "[encoded data removed]",
      "text/plain": [
       "<matplotlib.figure.Figure at 0x1113deef0>"
      ]
     },
     "metadata": {},
     "output_type": "display_data"
    }
   ],
   "source": [
    "x_list = np.array([1, 8,15])\n",
    "\n",
    "A = np.vander(x_list)[:,::-1]\n",
    "A\n",
    "B = g(x_list)\n",
    "B\n",
    "\n",
    "w = np.linalg.solve(A, B)\n",
    "w\n",
    "\n",
    "x = np.arange(1, 15, 0.01)\n",
    "\n",
    "def h(x, w):\n",
    "    return w[0] + w[1]*x + w[2]*x**2\n",
    "\n",
    "plt.plot(x, g(x), label='True')\n",
    "plt.plot(x, h(x, w), label='Poly')\n"
   ]
  },
  {
   "cell_type": "code",
   "execution_count": 226,
   "metadata": {},
   "outputs": [
    {
     "name": "stdout",
     "output_type": "stream",
     "text": [
      "<class 'numpy.ndarray'>\n",
      "[ 1  4 10 15]\n",
      "<class 'numpy.ndarray'>\n",
      "[ 1.    1.01  1.02 ... 14.97 14.98 14.99]\n"
     ]
    },
    {
     "data": {
      "text/plain": [
       "<matplotlib.legend.Legend at 0x111735748>"
      ]
     },
     "execution_count": 226,
     "metadata": {},
     "output_type": "execute_result"
    },
    {
     "data": {
      "image/png": "[encoded data removed]",
      "text/plain": [
       "<matplotlib.figure.Figure at 0x1114944a8>"
      ]
     },
     "metadata": {},
     "output_type": "display_data"
    }
   ],
   "source": [
    "\n",
    "x_list = np.array([1, 4, 10, 15])\n",
    "\n",
    "A = np.vander(x_list)[:,::-1]\n",
    "A\n",
    "B = g(x_list)\n",
    "B\n",
    "\n",
    "w = np.linalg.solve(A, B)\n",
    "w\n",
    "\n",
    "x = np.arange(1, 15, 0.01)\n",
    "\n",
    "def h(x, w):\n",
    "    return w[0] + w[1]*x + w[2]*x**2 + w[3]*x**3\n",
    "\n",
    "plt.plot(x, g(x), label='True')\n",
    "plt.plot(x, h(x, w), label='Poly')\n",
    "\n",
    "plt.legend(loc=\"best\")"
   ]
  },
  {
   "cell_type": "markdown",
   "metadata": {},
   "source": [
    "# ОТВЕТ"
   ]
  },
  {
   "cell_type": "code",
   "execution_count": 230,
   "metadata": {},
   "outputs": [
    {
     "data": {
      "text/plain": [
       "array([ 4.36264154, -1.29552587,  0.19333685, -0.00823565])"
      ]
     },
     "execution_count": 230,
     "metadata": {},
     "output_type": "execute_result"
    }
   ],
   "source": [
    "w"
   ]
  },
  {
   "cell_type": "code",
   "execution_count": null,
   "metadata": {},
   "outputs": [],
   "source": []
  }
 ],
 "metadata": {
  "kernelspec": {
   "display_name": "Python 2",
   "language": "python",
   "name": "python2"
  },
  "language_info": {
   "codemirror_mode": {
    "name": "ipython",
    "version": 2
   },
   "file_extension": ".py",
   "mimetype": "text/x-python",
   "name": "python",
   "nbconvert_exporter": "python",
   "pygments_lexer": "ipython2",
   "version": "2.7.15"
  }
 },
 "nbformat": 4,
 "nbformat_minor": 2
}
